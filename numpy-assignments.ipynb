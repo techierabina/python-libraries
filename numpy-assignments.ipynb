{
 "cells": [
  {
   "cell_type": "markdown",
   "id": "04590ae5",
   "metadata": {},
   "source": [
    "### Assignment 1: Array Creation and Manipulation\n",
    "1. Create a NumPy array of shape (5, 5) filled with random integers between 1 and 20.\n",
    "Replace all the elements in the third column with 1."
   ]
  },
  {
   "cell_type": "code",
   "execution_count": null,
   "id": "88eca011",
   "metadata": {},
   "outputs": [],
   "source": [
    "import numpy as np\n",
    "array = np.random.randint(1,99,size=(5,5))  \n",
    "print(array)\n",
    "\n",
    "#replacing the elements of third column\n",
    "array[:,2] = 1\n",
    "print(\"After: \")\n",
    "print(array)\n"
   ]
  },
  {
   "cell_type": "markdown",
   "id": "35d6d9bd",
   "metadata": {},
   "source": [
    "2. Create a NumPy array of shape (4, 4) with values from 1 to 16. \n",
    "Replace the diagonal elements with 0."
   ]
  },
  {
   "cell_type": "code",
   "execution_count": null,
   "id": "e322dab8",
   "metadata": {},
   "outputs": [],
   "source": [
    "\n",
    "array=np.random.randint(1,17,size=(4,4))\n",
    "print(\"Array before: \")\n",
    "print(array)\n",
    "#fill diagnoal with 0\n",
    "np.fill_diagonal(array,0)\n",
    "print(\"Array after: \")\n",
    "print(array)"
   ]
  },
  {
   "cell_type": "markdown",
   "id": "35bec823",
   "metadata": {},
   "source": [
    "Create a NumPy array of shape (6, 6) with values from 1 to 36. \n",
    "Extract the sub-array consisting of the 3rd to 5th rows and 2nd to 4th columns."
   ]
  },
  {
   "cell_type": "code",
   "execution_count": null,
   "id": "570a960f",
   "metadata": {},
   "outputs": [],
   "source": [
    "new_array=np.random.randint(1,37,size=(6,6))\n",
    "print(new_array)\n",
    "print(\"Sub Array\")\n",
    "third_array=new_array[2:5, 1:4]\n",
    "print(third_array)"
   ]
  },
  {
   "cell_type": "markdown",
   "id": "846108ca",
   "metadata": {},
   "source": [
    "Create a NumPy array of shape (5, 5) with random integers. Extract the elements on the border."
   ]
  },
  {
   "cell_type": "code",
   "execution_count": null,
   "id": "8c4c3118",
   "metadata": {},
   "outputs": [],
   "source": [
    "array=np.random.randint(1,99,size=(5,5))\n",
    "print(array)\n",
    "#extracting elements from the border \n",
    "# Top and bottom rows\n",
    "top = array[0, :]\n",
    "bottom = array[-1, :]\n",
    "\n",
    "# Left and right columns (excluding corners already in top/bottom)\n",
    "left = array[1:-1, 0]\n",
    "right = array[1:-1, -1]\n",
    "\n",
    "# Combine all border elements\n",
    "border = np.concatenate([top, right, bottom[::-1], left[::-1]])\n",
    "print(\"\\nBorder Elements:\")\n",
    "print(border)\n"
   ]
  },
  {
   "cell_type": "markdown",
   "id": "f7d605df",
   "metadata": {},
   "source": [
    "Create two NumPy arrays of shape (3, 4) filled with random integers. Perform element-wise addition, \n",
    "subtraction, multiplication, and division."
   ]
  },
  {
   "cell_type": "code",
   "execution_count": 5,
   "id": "96181011",
   "metadata": {},
   "outputs": [
    {
     "name": "stdout",
     "output_type": "stream",
     "text": [
      "Addition: \n",
      "[[142  86 103 128]\n",
      " [ 93  60 128 107]\n",
      " [117 119 146 139]]\n",
      "Subtraction:\n",
      "[[ 54  68 -19 -48]\n",
      " [ 65  38  40  75]\n",
      " [ 23 -57  50 -47]]\n",
      "Multiplication: \n",
      "[[4312  693 2562 3520]\n",
      " [1106  539 3696 1456]\n",
      " [3290 2728 4704 4278]]\n",
      "Division: \n",
      "[[2.22727273 8.55555556 0.68852459 0.45454545]\n",
      " [5.64285714 4.45454545 1.90909091 5.6875    ]\n",
      " [1.4893617  0.35227273 2.04166667 0.49462366]]\n"
     ]
    }
   ],
   "source": [
    "import numpy as np\n",
    "array1=np.random.randint(1,99,size=(3,4))\n",
    "array2=np.random.randint(1,99,size=(3,4))\n",
    "addition=array1+array2\n",
    "subtraction=array1-array2\n",
    "multiplication=array1*array2\n",
    "division=array1/array2\n",
    "print(\"Addition: \")\n",
    "print(addition)\n",
    "print(\"Subtraction:\")\n",
    "print(subtraction)\n",
    "print(\"Multiplication: \")\n",
    "print(multiplication)\n",
    "print(\"Division: \")\n",
    "print(division)"
   ]
  },
  {
   "cell_type": "markdown",
   "id": "fbddb0a5",
   "metadata": {},
   "source": [
    "Create a NumPy array of shape (4, 4) with values from 1 to 16. \n",
    "Compute the row-wise and column-wise sum."
   ]
  },
  {
   "cell_type": "code",
   "execution_count": 11,
   "id": "d092a861",
   "metadata": {},
   "outputs": [
    {
     "name": "stdout",
     "output_type": "stream",
     "text": [
      "Original array:\n",
      "[[ 1  2  3  4]\n",
      " [ 5  6  7  8]\n",
      " [ 9 10 11 12]\n",
      " [13 14 15 16]]\n",
      "Row-wise sum:\n",
      "[10 26 42 58]\n",
      "Column-wise sum:\n",
      "[28 32 36 40]\n"
     ]
    }
   ],
   "source": [
    "# Create a NumPy array of shape (4, 4) with values from 1 to 16\n",
    "array = np.arange(1, 17).reshape((4, 4))\n",
    "print(\"Original array:\")\n",
    "print(array)\n",
    "\n",
    "# Compute the row-wise and column-wise sum\n",
    "row_sum = np.sum(array, axis=1)\n",
    "column_sum = np.sum(array, axis=0)\n",
    "\n",
    "print(\"Row-wise sum:\")\n",
    "print(row_sum)\n",
    "print(\"Column-wise sum:\")\n",
    "print(column_sum)"
   ]
  },
  {
   "cell_type": "markdown",
   "id": "3e0b50bc",
   "metadata": {},
   "source": [
    "Create a NumPy array of shape (5, 5) filled with random integers. Compute the mean, median, \n",
    "standard deviation, and variance of the array."
   ]
  },
  {
   "cell_type": "code",
   "execution_count": 15,
   "id": "8dc094e3",
   "metadata": {},
   "outputs": [
    {
     "name": "stdout",
     "output_type": "stream",
     "text": [
      "The mean is array:  31.44\n",
      "The median:  36.0\n",
      "Standard deviation:  14.167794464912312\n",
      "Variance:  200.72639999999996\n"
     ]
    }
   ],
   "source": [
    "array=np.random.randint(1,51,size=(5,5))\n",
    "mean=np.mean(array)\n",
    "print(\"The mean is array: \",mean)\n",
    "median=np.median(array)\n",
    "print(\"The median: \", median)\n",
    "std=np.std(array)\n",
    "print(\"Standard deviation: \",std)\n",
    "variance=np.var(array)\n",
    "print(\"Variance: \",variance)"
   ]
  },
  {
   "cell_type": "markdown",
   "id": "39052ab2",
   "metadata": {},
   "source": [
    "Create a NumPy array of shape (3, 3) with values from 1 to 9. Normalize the array\n",
    "(i.e., scale the values to have a mean of 0 and a standard deviation of 1)."
   ]
  },
  {
   "cell_type": "code",
   "execution_count": 45,
   "id": "35c3b1c9",
   "metadata": {},
   "outputs": [
    {
     "name": "stdout",
     "output_type": "stream",
     "text": [
      "Array:\n",
      "[[9 6 4]\n",
      " [6 5 9]\n",
      " [4 7 4]]\n",
      "After Normalization: \n",
      "[[ 1.59099026  0.         -1.06066017]\n",
      " [ 0.         -0.53033009  1.59099026]\n",
      " [-1.06066017  0.53033009 -1.06066017]]\n"
     ]
    }
   ],
   "source": [
    "import pandas as pd \n",
    "array=np.random.randint(1,10,size=(3,3))\n",
    "print(\"Array:\")\n",
    "print(array)\n",
    "mean=np.mean(array)\n",
    "std=np.std(array)\n",
    "print(\"After Normalization: \")\n",
    "normalized_array=(array-mean)/std\n",
    "print(normalized_array)\n"
   ]
  },
  {
   "cell_type": "markdown",
   "id": "a1771ee1",
   "metadata": {},
   "source": [
    "Create a NumPy array of shape (3, 3) filled with random integers.\n",
    "Add a 1D array of shape (3,) to each row of the 2D array using broadcasting."
   ]
  },
  {
   "cell_type": "code",
   "execution_count": null,
   "id": "e8e34f34",
   "metadata": {},
   "outputs": [
    {
     "name": "stdout",
     "output_type": "stream",
     "text": [
      "Array: \n",
      "[[69 79 60]\n",
      " [19  2 49]\n",
      " [48 95 67]]\n",
      "Array to add\n",
      "[[ 70 102 104]\n",
      " [ 20  25  93]\n",
      " [ 49 118 111]]\n"
     ]
    }
   ],
   "source": [
    "array=np.random.randint(1,99,size=(3,3))\n",
    "print(\"Array: \")\n",
    "print(array)\n",
    "print(\"Array to add\")\n",
    "array_1d=np.array([1,23,44])\n",
    "print(array_1d)\n",
    "sum=array+array_1d\n",
    "print(sum)"
   ]
  },
  {
   "cell_type": "markdown",
   "id": "0175f8cc",
   "metadata": {},
   "source": [
    "Create a NumPy array of shape (4, 4) filled with random integers. \n",
    "Subtract a 1D array of shape (4,) from each column of the 2D array using broadcasting."
   ]
  },
  {
   "cell_type": "code",
   "execution_count": 53,
   "id": "e04225e2",
   "metadata": {},
   "outputs": [
    {
     "name": "stdout",
     "output_type": "stream",
     "text": [
      "Main Array: \n",
      "[[53 43  2 89]\n",
      " [64  6 88 14]\n",
      " [86 59 83 40]\n",
      " [ 1 40 22 39]]\n",
      "1D Array: \n",
      "[ 1  3 55 93]\n",
      "Subtraction using broadcasting\n",
      "[[ 52  40 -53  -4]\n",
      " [ 63   3  33 -79]\n",
      " [ 85  56  28 -53]\n",
      " [  0  37 -33 -54]]\n"
     ]
    }
   ],
   "source": [
    "array1=np.random.randint(1,100,size=(4,4))\n",
    "print(\"Main Array: \")\n",
    "print(array1)\n",
    "array_1d=np.array([1,3,55,93])\n",
    "print(\"1D Array: \")\n",
    "print(array_1d)\n",
    "print(\"Subtraction using broadcasting\")\n",
    "subt=array1-array_1d\n",
    "print(subt)"
   ]
  }
 ],
 "metadata": {
  "kernelspec": {
   "display_name": "base",
   "language": "python",
   "name": "python3"
  },
  "language_info": {
   "codemirror_mode": {
    "name": "ipython",
    "version": 3
   },
   "file_extension": ".py",
   "mimetype": "text/x-python",
   "name": "python",
   "nbconvert_exporter": "python",
   "pygments_lexer": "ipython3",
   "version": "3.13.4"
  }
 },
 "nbformat": 4,
 "nbformat_minor": 5
}
