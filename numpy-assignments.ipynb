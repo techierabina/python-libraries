{
 "cells": [
  {
   "cell_type": "markdown",
   "id": "04590ae5",
   "metadata": {},
   "source": [
    "### Assignment 1: Array Creation and Manipulation\n",
    "1. Create a NumPy array of shape (5, 5) filled with random integers between 1 and 20.\n",
    "Replace all the elements in the third column with 1."
   ]
  },
  {
   "cell_type": "code",
   "execution_count": null,
   "id": "88eca011",
   "metadata": {},
   "outputs": [],
   "source": [
    "import numpy as np\n",
    "array = np.random.randint(1,99,size=(5,5))  \n",
    "print(array)\n",
    "\n",
    "#replacing the elements of third column\n",
    "array[:,2] = 1\n",
    "print(\"After: \")\n",
    "print(array)\n"
   ]
  },
  {
   "cell_type": "markdown",
   "id": "35d6d9bd",
   "metadata": {},
   "source": [
    "2. Create a NumPy array of shape (4, 4) with values from 1 to 16. \n",
    "Replace the diagonal elements with 0."
   ]
  },
  {
   "cell_type": "code",
   "execution_count": null,
   "id": "e322dab8",
   "metadata": {},
   "outputs": [],
   "source": [
    "\n",
    "array=np.random.randint(1,17,size=(4,4))\n",
    "print(\"Array before: \")\n",
    "print(array)\n",
    "#fill diagnoal with 0\n",
    "np.fill_diagonal(array,0)\n",
    "print(\"Array after: \")\n",
    "print(array)"
   ]
  },
  {
   "cell_type": "markdown",
   "id": "35bec823",
   "metadata": {},
   "source": [
    "Create a NumPy array of shape (6, 6) with values from 1 to 36. \n",
    "Extract the sub-array consisting of the 3rd to 5th rows and 2nd to 4th columns."
   ]
  },
  {
   "cell_type": "code",
   "execution_count": null,
   "id": "570a960f",
   "metadata": {},
   "outputs": [],
   "source": [
    "new_array=np.random.randint(1,37,size=(6,6))\n",
    "print(new_array)\n",
    "print(\"Sub Array\")\n",
    "third_array=new_array[2:5, 1:4]\n",
    "print(third_array)"
   ]
  },
  {
   "cell_type": "markdown",
   "id": "846108ca",
   "metadata": {},
   "source": [
    "Create a NumPy array of shape (5, 5) with random integers. Extract the elements on the border."
   ]
  },
  {
   "cell_type": "code",
   "execution_count": null,
   "id": "8c4c3118",
   "metadata": {},
   "outputs": [],
   "source": [
    "array=np.random.randint(1,99,size=(5,5))\n",
    "print(array)\n",
    "#extracting elements from the border \n",
    "# Top and bottom rows\n",
    "top = array[0, :]\n",
    "bottom = array[-1, :]\n",
    "\n",
    "# Left and right columns (excluding corners already in top/bottom)\n",
    "left = array[1:-1, 0]\n",
    "right = array[1:-1, -1]\n",
    "\n",
    "# Combine all border elements\n",
    "border = np.concatenate([top, right, bottom[::-1], left[::-1]])\n",
    "print(\"\\nBorder Elements:\")\n",
    "print(border)\n"
   ]
  },
  {
   "cell_type": "markdown",
   "id": "f7d605df",
   "metadata": {},
   "source": [
    "Create two NumPy arrays of shape (3, 4) filled with random integers. Perform element-wise addition, \n",
    "subtraction, multiplication, and division."
   ]
  },
  {
   "cell_type": "code",
   "execution_count": null,
   "id": "96181011",
   "metadata": {},
   "outputs": [],
   "source": [
    "import numpy as np\n",
    "array1=np.random.randint(1,99,size=(3,4))\n",
    "array2=np.random.randint(1,99,size=(3,4))\n",
    "addition=array1+array2\n",
    "subtraction=array1-array2\n",
    "multiplication=array1*array2\n",
    "division=array1/array2\n",
    "print(\"Addition: \")\n",
    "print(addition)\n",
    "print(\"Subtraction:\")\n",
    "print(subtraction)\n",
    "print(\"Multiplication: \")\n",
    "print(multiplication)\n",
    "print(\"Division: \")\n",
    "print(division)"
   ]
  },
  {
   "cell_type": "markdown",
   "id": "fbddb0a5",
   "metadata": {},
   "source": [
    "Create a NumPy array of shape (4, 4) with values from 1 to 16. \n",
    "Compute the row-wise and column-wise sum."
   ]
  },
  {
   "cell_type": "code",
   "execution_count": null,
   "id": "d092a861",
   "metadata": {},
   "outputs": [],
   "source": [
    "# Create a NumPy array of shape (4, 4) with values from 1 to 16\n",
    "array = np.arange(1, 17).reshape((4, 4))\n",
    "print(\"Original array:\")\n",
    "print(array)\n",
    "\n",
    "# Compute the row-wise and column-wise sum\n",
    "row_sum = np.sum(array, axis=1)\n",
    "column_sum = np.sum(array, axis=0)\n",
    "\n",
    "print(\"Row-wise sum:\")\n",
    "print(row_sum)\n",
    "print(\"Column-wise sum:\")\n",
    "print(column_sum)"
   ]
  },
  {
   "cell_type": "markdown",
   "id": "3e0b50bc",
   "metadata": {},
   "source": [
    "Create a NumPy array of shape (5, 5) filled with random integers. Compute the mean, median, \n",
    "standard deviation, and variance of the array."
   ]
  },
  {
   "cell_type": "code",
   "execution_count": null,
   "id": "8dc094e3",
   "metadata": {},
   "outputs": [],
   "source": [
    "array=np.random.randint(1,51,size=(5,5))\n",
    "mean=np.mean(array)\n",
    "print(\"The mean is array: \",mean)\n",
    "median=np.median(array)\n",
    "print(\"The median: \", median)\n",
    "std=np.std(array)\n",
    "print(\"Standard deviation: \",std)\n",
    "variance=np.var(array)\n",
    "print(\"Variance: \",variance)"
   ]
  },
  {
   "cell_type": "markdown",
   "id": "39052ab2",
   "metadata": {},
   "source": [
    "Create a NumPy array of shape (3, 3) with values from 1 to 9. Normalize the array\n",
    "(i.e., scale the values to have a mean of 0 and a standard deviation of 1)."
   ]
  },
  {
   "cell_type": "code",
   "execution_count": null,
   "id": "35c3b1c9",
   "metadata": {},
   "outputs": [],
   "source": [
    "import pandas as pd \n",
    "array=np.random.randint(1,10,size=(3,3))\n",
    "print(\"Array:\")\n",
    "print(array)\n",
    "mean=np.mean(array)\n",
    "std=np.std(array)\n",
    "print(\"After Normalization: \")\n",
    "normalized_array=(array-mean)/std\n",
    "print(normalized_array)\n"
   ]
  },
  {
   "cell_type": "markdown",
   "id": "a1771ee1",
   "metadata": {},
   "source": [
    "Create a NumPy array of shape (3, 3) filled with random integers.\n",
    "Add a 1D array of shape (3,) to each row of the 2D array using broadcasting."
   ]
  },
  {
   "cell_type": "code",
   "execution_count": null,
   "id": "e8e34f34",
   "metadata": {},
   "outputs": [],
   "source": [
    "array=np.random.randint(1,99,size=(3,3))\n",
    "print(\"Array: \")\n",
    "print(array)\n",
    "print(\"Array to add\")\n",
    "array_1d=np.array([1,23,44])\n",
    "print(array_1d)\n",
    "sum=array+array_1d\n",
    "print(sum)"
   ]
  },
  {
   "cell_type": "markdown",
   "id": "0175f8cc",
   "metadata": {},
   "source": [
    "Create a NumPy array of shape (4, 4) filled with random integers. \n",
    "Subtract a 1D array of shape (4,) from each column of the 2D array using broadcasting."
   ]
  },
  {
   "cell_type": "code",
   "execution_count": null,
   "id": "e04225e2",
   "metadata": {},
   "outputs": [],
   "source": [
    "array1=np.random.randint(1,100,size=(4,4))\n",
    "print(\"Main Array: \")\n",
    "print(array1)\n",
    "array_1d=np.array([1,3,55,93])\n",
    "print(\"1D Array: \")\n",
    "print(array_1d)\n",
    "print(\"Subtraction using broadcasting\")\n",
    "subt=array1-array_1d\n",
    "print(subt)"
   ]
  },
  {
   "cell_type": "markdown",
   "id": "8a2862ce",
   "metadata": {},
   "source": [
    "Create two NumPy arrays of shape (2, 3) and (3, 2). Perform matrix multiplication on these arrays."
   ]
  },
  {
   "cell_type": "code",
   "execution_count": null,
   "id": "e59bab57",
   "metadata": {},
   "outputs": [],
   "source": [
    "import numpy as np\n",
    "arra1=np.random.randint(99,size=(2,3))\n",
    "arr2=np.random.randint(99,size=(3,2))\n",
    "print(\"First matrix: \")\n",
    "print(arra1)\n",
    "print(\"Second matrix: \")\n",
    "print(arr2)\n",
    "multi=arra1.dot(arr2)\n",
    "print(\" matrix multiplication\")\n",
    "print(multi)"
   ]
  },
  {
   "cell_type": "markdown",
   "id": "f7bdb90d",
   "metadata": {},
   "source": [
    "Create a NumPy array of shape (3, 3) with values from 1 to 9. \n",
    "Reshape the array to shape (1, 9) and then to shape (9, 1)."
   ]
  },
  {
   "cell_type": "code",
   "execution_count": null,
   "id": "be4e81aa",
   "metadata": {},
   "outputs": [],
   "source": [
    "array=np.random.randint(1,10,size=(3,3))\n",
    "print(\"Matrix: \")\n",
    "print(array)\n",
    "reshaped=array.reshape(1,9)\n",
    "print(\"Re-shaped Array to (1,9): \")\n",
    "print(reshaped)\n",
    "re_shape=reshaped.reshape(9,1)\n",
    "print(\"Again reshaped to (9,1):\")\n",
    "print(re_shape)\n"
   ]
  },
  {
   "cell_type": "markdown",
   "id": "e594704b",
   "metadata": {},
   "source": [
    "Create a NumPy array of shape (5, 5) filled with random integers. \n",
    "Flatten the array and then reshape it back to (5, 5)."
   ]
  },
  {
   "cell_type": "code",
   "execution_count": null,
   "id": "67b8b34b",
   "metadata": {},
   "outputs": [],
   "source": [
    "import numpy as np\n",
    "\n",
    "# Step 1: Create a 5×5 array with random integers\n",
    "array = np.random.randint(1, 100, size=(5, 5))\n",
    "print(\"Original 5×5 Array:\")\n",
    "print(array)\n",
    "\n",
    "# Step 2: Flatten the array to 1D\n",
    "flattened = array.flatten()\n",
    "print(\"\\nFlattened Array (1D):\")\n",
    "print(flattened)\n",
    "\n",
    "# Step 3: Reshape the flattened array back to 5×5\n",
    "reshaped = flattened.reshape(5, 5)\n",
    "print(\"\\nReshaped Back to 5×5:\")\n",
    "print(reshaped)\n"
   ]
  },
  {
   "cell_type": "markdown",
   "id": "83e7dacc",
   "metadata": {},
   "source": [
    "Create a NumPy array of shape (5, 5) filled with random integers. \n",
    "Use fancy indexing to extract the elements at the corners of the array."
   ]
  },
  {
   "cell_type": "code",
   "execution_count": null,
   "id": "dad1a093",
   "metadata": {},
   "outputs": [],
   "source": [
    "array=np.random.randint(1,10,size=(5,5))\n",
    "print(\"Array: \")\n",
    "print(array)\n",
    "rows=[0,0,4,4]\n",
    "cols=[0,4,0,4]\n",
    "corners=array[rows,cols]\n",
    "print(\"Corner Elements using fancy indexing:\")\n",
    "print(corners)"
   ]
  },
  {
   "cell_type": "markdown",
   "id": "30cc49a7",
   "metadata": {},
   "source": [
    "2.Create a NumPy array of shape (4, 4) filled with random integers. \n",
    "Use boolean indexing to set all elements greater than 10 to 10."
   ]
  },
  {
   "cell_type": "code",
   "execution_count": null,
   "id": "7d26477c",
   "metadata": {},
   "outputs": [],
   "source": [
    "array=np.random.randint(1,100,size=(4,4))\n",
    "print(\"Array: \")\n",
    "print(array)\n",
    "array[array>10]=10\n",
    "print(\"Array after filtering elements greater than 10: \")\n",
    "print(array)\n"
   ]
  },
  {
   "cell_type": "markdown",
   "id": "4e325965",
   "metadata": {},
   "source": [
    "Create a structured array with fields 'name' (string), 'age' (integer), and 'weight' \n",
    "(float). Add some data and sort the array by age."
   ]
  },
  {
   "cell_type": "code",
   "execution_count": null,
   "id": "34d32a8b",
   "metadata": {},
   "outputs": [],
   "source": [
    "#data type for structured array \n",
    "dtype=[('name','U10'),('age','i4'),('weight','f4')]\n",
    "data=np.array([\n",
    "    ('Rabs',22,70),\n",
    "    ('Sagar',24,80),\n",
    "    ('Rejina',17,65)\n",
    "], dtype=dtype)\n",
    "print(data)\n",
    "sorted=np.sort(data,order='age')\n",
    "print(sorted)\n"
   ]
  },
  {
   "cell_type": "markdown",
   "id": "61b1be14",
   "metadata": {},
   "source": [
    "Create a structured array with fields 'x' and 'y' (both integers). \n",
    "Add some data and compute the Euclidean distance between each pair of points."
   ]
  },
  {
   "cell_type": "code",
   "execution_count": null,
   "id": "f2dafb12",
   "metadata": {},
   "outputs": [],
   "source": [
    "dtype=[('x','i4'),('y','i4')]\n",
    "data=np.array([(22,33),(999,34),(8,263)],dtype=dtype)\n",
    "print(\"Matrix: \")\n",
    "print(data)\n",
    "# Compute the Euclidean distance between each pair of points\n",
    "distances = np.sqrt((data['x'][:, np.newaxis] - data['x'])**2 + (data['y'][:, np.newaxis] - data['y'])**2)\n",
    "print(\"Euclidean distances:\")\n",
    "print(distances)"
   ]
  },
  {
   "cell_type": "markdown",
   "id": "c5e8707a",
   "metadata": {},
   "source": [
    "Create a masked array of shape (4, 4) with random integers and mask \n",
    "the elements greater than 10. Compute the sum of the unmasked elements."
   ]
  },
  {
   "cell_type": "code",
   "execution_count": null,
   "id": "93b1d3a7",
   "metadata": {},
   "outputs": [],
   "source": [
    "import numpy.ma as ma\n",
    "array=np.random.randint(0,19,size=(4,4))\n",
    "print(\"The original array: \")\n",
    "print(array)\n",
    "mask_array=ma.masked_greater(array,10)\n",
    "print(\"The masked array is: \")\n",
    "print(mask_array)\n",
    "sum=mask_array.sum()\n",
    "print(f\"The sum of nask numbers: \",sum)"
   ]
  },
  {
   "cell_type": "markdown",
   "id": "ee1094ba",
   "metadata": {},
   "source": [
    "2. Create a masked array of shape (3, 3) with random integers and mask the diagonal elements. \n",
    "Replace the masked elements with the mean of the unmasked elements."
   ]
  },
  {
   "cell_type": "code",
   "execution_count": null,
   "id": "69d9874a",
   "metadata": {},
   "outputs": [],
   "source": [
    "# Create a masked array of shape (3, 3) with random integers\n",
    "import numpy as np\n",
    "import numpy.ma as ma\n",
    "\n",
    "# Step 1: Create random array\n",
    "array = np.random.randint(1, 21, size=(3, 3))\n",
    "print(\"Original array:\")\n",
    "print(array)\n",
    "\n",
    "# Step 2: Mask the diagonal\n",
    "mask = np.eye(3, dtype=bool)\n",
    "masked_array = ma.masked_array(array, mask=mask)\n",
    "print(\"\\nMasked array:\")\n",
    "print(masked_array)\n",
    "\n",
    "# Step 3: Compute mean of unmasked elements\n",
    "mean_unmasked = masked_array.mean()\n",
    "\n",
    "# Step 4: Replace masked values with mean\n",
    "modified_array = masked_array.filled(mean_unmasked)\n",
    "print(\"\\nModified array (masked elements replaced with mean):\")\n",
    "print(modified_array)\n"
   ]
  }
 ],
 "metadata": {
  "kernelspec": {
   "display_name": "base",
   "language": "python",
   "name": "python3"
  },
  "language_info": {
   "codemirror_mode": {
    "name": "ipython",
    "version": 3
   },
   "file_extension": ".py",
   "mimetype": "text/x-python",
   "name": "python",
   "nbconvert_exporter": "python",
   "pygments_lexer": "ipython3",
   "version": "3.13.4"
  }
 },
 "nbformat": 4,
 "nbformat_minor": 5
}
