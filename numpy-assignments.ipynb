{
 "cells": [
  {
   "cell_type": "markdown",
   "id": "04590ae5",
   "metadata": {},
   "source": [
    "### Assignment 1: Array Creation and Manipulation\n",
    "1. Create a NumPy array of shape (5, 5) filled with random integers between 1 and 20.\n",
    "Replace all the elements in the third column with 1."
   ]
  },
  {
   "cell_type": "code",
   "execution_count": null,
   "id": "88eca011",
   "metadata": {},
   "outputs": [],
   "source": [
    "import numpy as np\n",
    "array = np.random.randint(1,99,size=(5,5))  \n",
    "print(array)\n",
    "\n",
    "#replacing the elements of third column\n",
    "array[:,2] = 1\n",
    "print(\"After: \")\n",
    "print(array)\n"
   ]
  },
  {
   "cell_type": "markdown",
   "id": "35d6d9bd",
   "metadata": {},
   "source": [
    "2. Create a NumPy array of shape (4, 4) with values from 1 to 16. \n",
    "Replace the diagonal elements with 0."
   ]
  },
  {
   "cell_type": "code",
   "execution_count": null,
   "id": "e322dab8",
   "metadata": {},
   "outputs": [],
   "source": [
    "\n",
    "array=np.random.randint(1,17,size=(4,4))\n",
    "print(\"Array before: \")\n",
    "print(array)\n",
    "#fill diagnoal with 0\n",
    "np.fill_diagonal(array,0)\n",
    "print(\"Array after: \")\n",
    "print(array)"
   ]
  },
  {
   "cell_type": "markdown",
   "id": "35bec823",
   "metadata": {},
   "source": [
    "Create a NumPy array of shape (6, 6) with values from 1 to 36. \n",
    "Extract the sub-array consisting of the 3rd to 5th rows and 2nd to 4th columns."
   ]
  },
  {
   "cell_type": "code",
   "execution_count": null,
   "id": "570a960f",
   "metadata": {},
   "outputs": [],
   "source": [
    "new_array=np.random.randint(1,37,size=(6,6))\n",
    "print(new_array)\n",
    "print(\"Sub Array\")\n",
    "third_array=new_array[2:5, 1:4]\n",
    "print(third_array)"
   ]
  },
  {
   "cell_type": "markdown",
   "id": "846108ca",
   "metadata": {},
   "source": [
    "Create a NumPy array of shape (5, 5) with random integers. Extract the elements on the border."
   ]
  },
  {
   "cell_type": "code",
   "execution_count": null,
   "id": "8c4c3118",
   "metadata": {},
   "outputs": [],
   "source": [
    "array=np.random.randint(1,99,size=(5,5))\n",
    "print(array)\n",
    "#extracting elements from the border \n",
    "# Top and bottom rows\n",
    "top = array[0, :]\n",
    "bottom = array[-1, :]\n",
    "\n",
    "# Left and right columns (excluding corners already in top/bottom)\n",
    "left = array[1:-1, 0]\n",
    "right = array[1:-1, -1]\n",
    "\n",
    "# Combine all border elements\n",
    "border = np.concatenate([top, right, bottom[::-1], left[::-1]])\n",
    "print(\"\\nBorder Elements:\")\n",
    "print(border)\n"
   ]
  }
 ],
 "metadata": {
  "kernelspec": {
   "display_name": "base",
   "language": "python",
   "name": "python3"
  },
  "language_info": {
   "codemirror_mode": {
    "name": "ipython",
    "version": 3
   },
   "file_extension": ".py",
   "mimetype": "text/x-python",
   "name": "python",
   "nbconvert_exporter": "python",
   "pygments_lexer": "ipython3",
   "version": "3.13.4"
  }
 },
 "nbformat": 4,
 "nbformat_minor": 5
}
