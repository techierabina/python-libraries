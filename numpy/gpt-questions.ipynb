{
 "cells": [
  {
   "cell_type": "markdown",
   "id": "a5635cd3",
   "metadata": {},
   "source": [
    "Create Arrays\n",
    "Create a 1D NumPy array of numbers from 0 to 9.\n",
    "Create a 3x3 array of all True values.\n",
    "Create an array of 10 zeros and replace the fifth element with 1."
   ]
  },
  {
   "cell_type": "code",
   "execution_count": null,
   "id": "f0949be1",
   "metadata": {},
   "outputs": [],
   "source": [
    "import numpy as np\n",
    "arr=np.array([x for x in range(0,10)])\n",
    "print(arr)\n",
    "\n",
    "arr=np.ones((3,3),dtype=bool)\n",
    "print(arr)\n",
    "\n",
    "arr=np.zeros(10)\n",
    "print(arr)\n",
    "arr[4]=8\n",
    "print(\"Replacing 5th element: \",arr)"
   ]
  },
  {
   "cell_type": "markdown",
   "id": "155f6530",
   "metadata": {},
   "source": [
    "Multiply all elements of an array by 2.\n",
    "Add two NumPy arrays element-wise.\n",
    "Compute the square root of all elements in an array."
   ]
  },
  {
   "cell_type": "code",
   "execution_count": null,
   "id": "e4d315a9",
   "metadata": {},
   "outputs": [],
   "source": [
    "arr=np.array([[1,2,3],\n",
    "    [2,3,4]])\n",
    "multi=arr *2\n",
    "print(\"Array munltiplication: \\n\", multi)\n",
    "\n",
    "arr2=np.array([[6,7,8],\n",
    "              [4,7,8]])\n",
    "print(arr2)\n",
    "print(\"Adding two arrays elementwise: \\n\", arr+arr2)\n",
    "\n",
    "arr_sqrt=np.sqrt(arr)\n",
    "print(\"Square root:  \\n\", arr_sqrt)"
   ]
  },
  {
   "cell_type": "markdown",
   "id": "51824b5d",
   "metadata": {},
   "source": [
    "Extract all even numbers from an array.\n",
    "Reverse a 1D array (e.g., [1, 2, 3] → [3, 2, 1]).\n",
    "Replace all elements greater than 5 with 0 in a given array."
   ]
  },
  {
   "cell_type": "code",
   "execution_count": null,
   "id": "65f2a20d",
   "metadata": {},
   "outputs": [],
   "source": [
    "\n",
    "arr=np.array([1,2,3,4,5,6,7,8,9,10])\n",
    "even=arr[arr%2==0]\n",
    "print(\"Even numbers:\", even)\n",
    "\n",
    "reverse=arr[::-1]\n",
    "print(\"Reversed array: \", reverse)\n",
    "\n",
    "arr[arr>5]=0\n",
    "print(\"Replaced with 0: \",arr)"
   ]
  },
  {
   "cell_type": "markdown",
   "id": "83c3fadd",
   "metadata": {},
   "source": [
    "Convert a 1D array of 9 elements into a 3x3 matrix.\n",
    "Flatten a 2D array into 1D."
   ]
  },
  {
   "cell_type": "code",
   "execution_count": null,
   "id": "85440992",
   "metadata": {},
   "outputs": [],
   "source": [
    "arr=np.array([x for x in range(1,10)])\n",
    "print(\"1D Array: \",arr)\n",
    "print(\"Reshaping the array to 3X3 matrices: \\n\",arr.reshape(3,3))\n",
    "flattened=arr.flatten()\n",
    "print(\"The flattened array: \",flattened)"
   ]
  },
  {
   "cell_type": "markdown",
   "id": "04639b13",
   "metadata": {},
   "source": [
    "Create a 100x100 matrix with normally distributed values.\n",
    "Simulate 1,000 coin tosses and count the number of heads"
   ]
  },
  {
   "cell_type": "code",
   "execution_count": null,
   "id": "b83a337c",
   "metadata": {},
   "outputs": [],
   "source": [
    "arr=np.random.randn(100,100)\n",
    "print(\"The noramally distributed values are: \",arr)\n",
    "coin_tossed=np.random.randint(0,2,size=1000)\n",
    "num_head=np.sum(coin_tossed)\n",
    "print(\"Number of heads in 1000 coin tosses: \",num_head)"
   ]
  }
 ],
 "metadata": {
  "kernelspec": {
   "display_name": "base",
   "language": "python",
   "name": "python3"
  },
  "language_info": {
   "codemirror_mode": {
    "name": "ipython",
    "version": 3
   },
   "file_extension": ".py",
   "mimetype": "text/x-python",
   "name": "python",
   "nbconvert_exporter": "python",
   "pygments_lexer": "ipython3",
   "version": "3.13.4"
  }
 },
 "nbformat": 4,
 "nbformat_minor": 5
}
