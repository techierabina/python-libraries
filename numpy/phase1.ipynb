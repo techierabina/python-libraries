{
 "cells": [
  {
   "cell_type": "code",
   "execution_count": null,
   "id": "52d74b03",
   "metadata": {},
   "outputs": [],
   "source": [
    "import numpy as np\n",
    "\n"
   ]
  },
  {
   "cell_type": "markdown",
   "id": "2b1a0cbe",
   "metadata": {},
   "source": [
    "### creating arrays from list "
   ]
  },
  {
   "cell_type": "code",
   "execution_count": null,
   "id": "5273e797",
   "metadata": {},
   "outputs": [],
   "source": [
    "array_1d=np.array([1,2,3,4])\n",
    "print(\"1D Array: \",array_1d)\n",
    "array_2d=np.array([[1,2,34],[12,4,5],[22,4,5]])\n",
    "print(\"2D Array: \",array_2d)"
   ]
  },
  {
   "cell_type": "markdown",
   "id": "e6b6dece",
   "metadata": {},
   "source": [
    "### List VS Numpy Array"
   ]
  },
  {
   "cell_type": "code",
   "execution_count": null,
   "id": "71e7cb65",
   "metadata": {},
   "outputs": [],
   "source": [
    "py_list=[1,12,4,4]\n",
    "print(\"This is normal list in python: \", py_list)\n",
    "print(\"Python list multiplication: \",py_list *2)\n",
    "\n",
    "#numpy multiplication\n",
    "np_array=np.array([1,2,3,4,5]) #performs element-wise multiplication\n",
    "print(\"Array Multiplication: \",np_array*2)\n",
    "\n",
    "import time\n",
    "start=time.time()\n",
    "py_list=[i*2 for i in range(1000000)]\n",
    "print(\"\\n List operation time: \",time.time()-start)\n",
    "\n",
    "start=time.time()\n",
    "np_list=np.arange(1000000) * 2\n",
    "print(\"\\n Numpy operation time: \",time.time()-start)\n"
   ]
  },
  {
   "cell_type": "markdown",
   "id": "73fbad73",
   "metadata": {},
   "source": [
    "### creating array from scratch "
   ]
  },
  {
   "cell_type": "code",
   "execution_count": null,
   "id": "71e3d821",
   "metadata": {},
   "outputs": [],
   "source": [
    "#creating array with zero's\n",
    "zeros=np.zeros((3,4))\n",
    "print(\"Zeros array: \\n\",zeros)\n",
    "\n",
    "#creating array with one's\n",
    "ones=np.ones((3,5))\n",
    "print(\"Ones array: \\n\",ones)\n",
    "\n",
    "#creating arrays of constant\n",
    "full=np.full((2,2),7)\n",
    "print(\"Full array: \\n\",full)\n",
    "\n",
    "#creating arrays of random numbers #floating values\n",
    "random=np.random.random((4,3))\n",
    "print(\"Random array: \\n\",random)\n",
    "\n",
    "#creating array with int random values \n",
    "randoms=np.random.randint(0,11,size=(3,4))\n",
    "print(\"Random array: \\n\",randoms)\n",
    "\n",
    "#creating 1d array with arrange\n",
    "sequence=np.arange(0,11,2)\n",
    "print(\"1d  array: \\n\",sequence)"
   ]
  },
  {
   "cell_type": "markdown",
   "id": "33acf4e5",
   "metadata": {},
   "source": [
    "## Vector, MAtrices and Tensor"
   ]
  },
  {
   "cell_type": "code",
   "execution_count": null,
   "id": "a2fba7f8",
   "metadata": {},
   "outputs": [],
   "source": [
    "vector=np.array([1,2,3,4])\n",
    "print(\"Vector: \",vector)\n",
    "\n",
    "matrix=np.array([\n",
    "    [1,2,3],\n",
    "    [12,4,5]\n",
    "])\n",
    "print(\"Matrices: \\n\",matrix)\n",
    "\n",
    "\n",
    "xtensor = np.array([\n",
    "    [[3, 4, 57], [22, 33, 45]],\n",
    "    [[33, 44, 453], [33, 5, 73]],\n",
    "    [[2, 33, 4], [3, 5, 6]]\n",
    "])\n",
    "print(\"Tensor: \\n\",xtensor)\n",
    "\n"
   ]
  },
  {
   "cell_type": "markdown",
   "id": "7467127d",
   "metadata": {},
   "source": [
    "# Array properties"
   ]
  },
  {
   "cell_type": "code",
   "execution_count": null,
   "id": "16478002",
   "metadata": {},
   "outputs": [],
   "source": [
    "arr=np.array([\n",
    "    [1,2,3],\n",
    "    [2,3,4]\n",
    "])\n",
    "print(\"Shape: \",arr.shape)\n",
    "print(\"Dimension: \",arr.ndim)\n",
    "print(\"Data Type:\",arr.dtype)\n",
    "print(\"Size: \",arr.size)\n"
   ]
  },
  {
   "cell_type": "markdown",
   "id": "7cdb66f0",
   "metadata": {},
   "source": [
    "# Array reshaping"
   ]
  },
  {
   "cell_type": "code",
   "execution_count": null,
   "id": "92576be6",
   "metadata": {},
   "outputs": [],
   "source": [
    "arr=np.arange(12)\n",
    "print(\"Original array: \",arr)\n",
    "reshaped=arr.reshape(4,3)\n",
    "print(\"Reshaped array: \\n\",reshaped)\n",
    "flattened=reshaped.flatten()\n",
    "print(\"Flattened Array: \",flattened)\n",
    "revaled=arr.ravel()"
   ]
  },
  {
   "cell_type": "markdown",
   "id": "771e0290",
   "metadata": {},
   "source": [
    "# Transpose"
   ]
  },
  {
   "cell_type": "code",
   "execution_count": 50,
   "id": "06fa9bfd",
   "metadata": {},
   "outputs": [
    {
     "name": "stdout",
     "output_type": "stream",
     "text": [
      "[[ 0  3  6  9]\n",
      " [ 1  4  7 10]\n",
      " [ 2  5  8 11]]\n"
     ]
    }
   ],
   "source": [
    "transposed=reshaped.T\n",
    "print(transposed)"
   ]
  }
 ],
 "metadata": {
  "kernelspec": {
   "display_name": "base",
   "language": "python",
   "name": "python3"
  },
  "language_info": {
   "codemirror_mode": {
    "name": "ipython",
    "version": 3
   },
   "file_extension": ".py",
   "mimetype": "text/x-python",
   "name": "python",
   "nbconvert_exporter": "python",
   "pygments_lexer": "ipython3",
   "version": "3.13.4"
  }
 },
 "nbformat": 4,
 "nbformat_minor": 5
}
