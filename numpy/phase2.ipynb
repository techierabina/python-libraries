{
 "cells": [
  {
   "cell_type": "markdown",
   "id": "93aa0722",
   "metadata": {},
   "source": [
    "## NumPy Array Operations"
   ]
  },
  {
   "cell_type": "code",
   "execution_count": null,
   "id": "ece1bf4c",
   "metadata": {},
   "outputs": [],
   "source": [
    "import numpy as np"
   ]
  },
  {
   "cell_type": "code",
   "execution_count": null,
   "id": "051fbceb",
   "metadata": {},
   "outputs": [],
   "source": [
    "arr=np.array([x*x for x in range(1,11)])\n",
    "print(arr)\n",
    "print(\"Basic array slicing: \", arr[2:8])\n",
    "print(\"With step: \",arr[1:11:2])\n",
    "print(\"Negative indexing: \",arr[-2])\n",
    "\n",
    "arra2d=np.array([[1,2,3,4],[22,3,44,223],[22,3,4,21]])\n",
    "print(\"Specific element: \",arra2d[1,0])\n",
    "print(\"Entire row: \\n\",arra2d)\n",
    "print(\"Entire row: \",arra2d[1])\n",
    "print(\"Entire column: \",arra2d[:,1])"
   ]
  },
  {
   "cell_type": "markdown",
   "id": "0dc61fb4",
   "metadata": {},
   "source": [
    "## Sorting "
   ]
  },
  {
   "cell_type": "code",
   "execution_count": null,
   "id": "b4059706",
   "metadata": {},
   "outputs": [],
   "source": [
    "unsorted=np.array([22,1,21,0,33,212,325,293,45,89])\n",
    "print(\"Sorted Array:\",np.sort(unsorted))\n",
    "\n",
    "unsorted_2d=np.array([[19,2,39],[30,5,67],[8,9,0]])\n",
    "print(\"2D Array: \\n\",unsorted_2d)\n",
    "print(\"Sorting the array by column \\n\",np.sort(unsorted_2d,axis=0))\n",
    "print(\"Sorting the array row-wise \\n\",np.sort(unsorted_2d,axis=1))\n",
    "print(\"Rowise sum: \",np.sum(unsorted_2d))"
   ]
  },
  {
   "cell_type": "markdown",
   "id": "9bd351a0",
   "metadata": {},
   "source": [
    "## Filtering"
   ]
  },
  {
   "cell_type": "code",
   "execution_count": null,
   "id": "2bb4c1db",
   "metadata": {},
   "outputs": [],
   "source": [
    "numbers=np.array([1,2,3,4,5,6,6,67,33,66,22,88,452])\n",
    "even_numbers=numbers[numbers%2==0]\n",
    "print(\"Even numbers: \",even_numbers)"
   ]
  },
  {
   "cell_type": "markdown",
   "id": "f864cf0f",
   "metadata": {},
   "source": [
    "## Fancy Indexing Vs. np.where()"
   ]
  },
  {
   "cell_type": "code",
   "execution_count": null,
   "id": "38574e6e",
   "metadata": {},
   "outputs": [],
   "source": [
    "where_result=np.where(numbers%2==1)\n",
    "print(where_result)\n",
    "print(\"Np where:\",numbers[where_result])\n"
   ]
  },
  {
   "cell_type": "markdown",
   "id": "67983f72",
   "metadata": {},
   "source": [
    "## Adding and removing data "
   ]
  },
  {
   "cell_type": "code",
   "execution_count": null,
   "id": "4999f930",
   "metadata": {},
   "outputs": [],
   "source": [
    "arr1=np.array([1,2,3,4])\n",
    "arr2=np.array([2,34,1,2])\n",
    "sum=arr1+arr2\n",
    "print(\"Sum :\",sum)  #prints the sum \n",
    "\n",
    "#concatination\n",
    "combine=np.concatenate((arr1,arr2))\n",
    "print(\"Array concatination: \",combine)\n"
   ]
  },
  {
   "cell_type": "markdown",
   "id": "a95852a0",
   "metadata": {},
   "source": [
    "## Array Compatibality"
   ]
  },
  {
   "cell_type": "code",
   "execution_count": null,
   "id": "4fa1e1a9",
   "metadata": {},
   "outputs": [],
   "source": [
    "a=np.array([1,2,31,2])\n",
    "b=np.array([12,33,33,9])\n",
    "c=np.array([22,33,41,1])\n",
    "print(\"Array compatibility:\",a.shape==b.shape==c.shape)\n",
    "\n",
    "#adding arrays row-wise\n",
    "row_add=np.vstack((a,b))\n",
    "print(\"Adding arrays row-wise: \\n\",row_add)\n",
    "\n",
    "#adding elements column-wise\n",
    "col_add=np.hstack((b,c))\n",
    "print(\"Adding elements colum-wise:\",col_add)"
   ]
  },
  {
   "cell_type": "markdown",
   "id": "9e0573df",
   "metadata": {},
   "source": [
    "# Deleting Arrays"
   ]
  },
  {
   "cell_type": "code",
   "execution_count": null,
   "id": "8941dabb",
   "metadata": {},
   "outputs": [],
   "source": [
    "arr=np.array([11,22,33,44,66,232,43,2422,90])\n",
    "deleted=np.delete(arr,[2])\n",
    "print(\"Deleting single element: \",deleted)\n",
    "#deleting multiple elemetns\n",
    "delete_multiple=np.delete(arr, np.arange(2,5))\n",
    "print(\"Deleting multiple elements: \",delete_multiple)\n",
    "\n",
    "arr2d = np.array([\n",
    "    [10, 20, 30],\n",
    "    [40, 50, 60],\n",
    "    [70, 80, 90]\n",
    "])\n",
    "print(\"2D Array: \\n\",arr2d)\n",
    "deleted=np.delete(arr2d,1,axis=0)\n",
    "print(\"Deleting one row: \\n\",deleted)\n",
    "\n",
    "delete_column=np.delete(arr2d,0,axis=1)\n",
    "print(\"Deleting one column: \\n\",delete_column)\n",
    "\n",
    "#deleting multiple rows and columns \n",
    "np.delete(arr2d, [1, 2], axis=1)"
   ]
  }
 ],
 "metadata": {
  "kernelspec": {
   "display_name": "base",
   "language": "python",
   "name": "python3"
  },
  "language_info": {
   "codemirror_mode": {
    "name": "ipython",
    "version": 3
   },
   "file_extension": ".py",
   "mimetype": "text/x-python",
   "name": "python",
   "nbconvert_exporter": "python",
   "pygments_lexer": "ipython3",
   "version": "3.13.4"
  }
 },
 "nbformat": 4,
 "nbformat_minor": 5
}
