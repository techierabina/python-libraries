{
 "cells": [
  {
   "cell_type": "code",
   "execution_count": null,
   "id": "b0b9df05",
   "metadata": {},
   "outputs": [],
   "source": [
    "import pandas as pd \n",
    "df=pd.read_csv('data.csv')\n",
    "df.head(2)"
   ]
  },
  {
   "cell_type": "markdown",
   "id": "bc01777f",
   "metadata": {},
   "source": [
    "df.fillna(0) #filling the missing values with 0 "
   ]
  },
  {
   "cell_type": "code",
   "execution_count": null,
   "id": "8130c432",
   "metadata": {},
   "outputs": [],
   "source": [
    "#missing values \n",
    "df.isnull().sum()\n"
   ]
  },
  {
   "cell_type": "code",
   "execution_count": null,
   "id": "2c8ddbd4",
   "metadata": {},
   "outputs": [],
   "source": [
    "df['Age_fillNa']=df['Age'].fillna(df['Age'].mean())\n",
    "df"
   ]
  },
  {
   "cell_type": "code",
   "execution_count": null,
   "id": "6aab35de",
   "metadata": {},
   "outputs": [],
   "source": [
    "#using lambda to create new values\n",
    "df['New Age']=df['Age_fillNa'].apply(lambda x:x+10)\n",
    "df"
   ]
  },
  {
   "cell_type": "code",
   "execution_count": null,
   "id": "be5a5322",
   "metadata": {},
   "outputs": [],
   "source": [
    "#data aggregation\n",
    "grouped_mean=df.groupby('Name')['Age_fillNa'].mean()\n",
    "print(grouped_mean)"
   ]
  }
 ],
 "metadata": {
  "kernelspec": {
   "display_name": "base",
   "language": "python",
   "name": "python3"
  },
  "language_info": {
   "codemirror_mode": {
    "name": "ipython",
    "version": 3
   },
   "file_extension": ".py",
   "mimetype": "text/x-python",
   "name": "python",
   "nbconvert_exporter": "python",
   "pygments_lexer": "ipython3",
   "version": "3.13.4"
  }
 },
 "nbformat": 4,
 "nbformat_minor": 5
}
