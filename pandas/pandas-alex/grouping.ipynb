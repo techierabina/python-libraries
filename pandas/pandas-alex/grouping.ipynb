{
 "cells": [
  {
   "cell_type": "markdown",
   "id": "55c08d57",
   "metadata": {},
   "source": [
    "## Grouping "
   ]
  },
  {
   "cell_type": "code",
   "execution_count": null,
   "id": "4bca6b6b",
   "metadata": {},
   "outputs": [],
   "source": [
    "import pandas as pd\n",
    "df=pd.read_csv('Flavors.csv')\n",
    "df"
   ]
  },
  {
   "cell_type": "code",
   "execution_count": null,
   "id": "813bcfdc",
   "metadata": {},
   "outputs": [],
   "source": [
    "group_by_flavor=df.groupby('Base Flavor')\n"
   ]
  },
  {
   "cell_type": "code",
   "execution_count": null,
   "id": "9f5ef83d",
   "metadata": {},
   "outputs": [],
   "source": [
    "group_by_flavor.mean(numeric_only=True)"
   ]
  },
  {
   "cell_type": "code",
   "execution_count": null,
   "id": "6db296d3",
   "metadata": {},
   "outputs": [],
   "source": [
    "df.groupby('Base Flavor').mean(numeric_only=True)"
   ]
  },
  {
   "cell_type": "code",
   "execution_count": null,
   "id": "f61a179e",
   "metadata": {},
   "outputs": [],
   "source": [
    "df.groupby('Base Flavor').min()"
   ]
  },
  {
   "cell_type": "code",
   "execution_count": null,
   "id": "7a97a7f0",
   "metadata": {},
   "outputs": [],
   "source": [
    "df.groupby('Base Flavor').max()"
   ]
  },
  {
   "cell_type": "code",
   "execution_count": null,
   "id": "faa4b8b6",
   "metadata": {},
   "outputs": [],
   "source": [
    "df.groupby('Base Flavor').sum()"
   ]
  },
  {
   "cell_type": "code",
   "execution_count": null,
   "id": "5cba94a1",
   "metadata": {},
   "outputs": [],
   "source": [
    "#aggregate function .agg\n",
    "df.groupby('Base Flavor').agg({'Flavor Rating':['mean','max','sum','count']})"
   ]
  },
  {
   "cell_type": "code",
   "execution_count": null,
   "id": "31238953",
   "metadata": {},
   "outputs": [],
   "source": [
    "df.groupby('Base Flavor').agg({'Flavor Rating':['mean','max','sum','count'],'Texture Rating':['mean','max','sum','count']})"
   ]
  },
  {
   "cell_type": "code",
   "execution_count": null,
   "id": "0c5e0a45",
   "metadata": {},
   "outputs": [],
   "source": [
    "df.groupby(['Base Flavor','Liked']).agg({'Flavor Rating':['mean','max','sum','count']})"
   ]
  },
  {
   "cell_type": "code",
   "execution_count": null,
   "id": "fe2a2328",
   "metadata": {},
   "outputs": [],
   "source": [
    "df.groupby('Base Flavor').describe()"
   ]
  }
 ],
 "metadata": {
  "kernelspec": {
   "display_name": "base",
   "language": "python",
   "name": "python3"
  },
  "language_info": {
   "codemirror_mode": {
    "name": "ipython",
    "version": 3
   },
   "file_extension": ".py",
   "mimetype": "text/x-python",
   "name": "python",
   "nbconvert_exporter": "python",
   "pygments_lexer": "ipython3",
   "version": "3.13.4"
  }
 },
 "nbformat": 4,
 "nbformat_minor": 5
}
