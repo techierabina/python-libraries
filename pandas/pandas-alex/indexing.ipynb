{
 "cells": [
  {
   "cell_type": "code",
   "execution_count": null,
   "id": "a4f1af7e",
   "metadata": {},
   "outputs": [],
   "source": [
    "import pandas as pd"
   ]
  },
  {
   "cell_type": "code",
   "execution_count": null,
   "id": "391d7bd1",
   "metadata": {},
   "outputs": [],
   "source": [
    "df=pd.read_csv('world_population.csv')\n",
    "df.set_index('Country',inplace=True) #setting index \n",
    "df"
   ]
  },
  {
   "cell_type": "code",
   "execution_count": null,
   "id": "dbca6c1d",
   "metadata": {},
   "outputs": [],
   "source": [
    "df.loc['Albania']\n",
    "df.loc['Nepal']"
   ]
  },
  {
   "cell_type": "code",
   "execution_count": null,
   "id": "1244622b",
   "metadata": {},
   "outputs": [],
   "source": [
    "df.reset_index(inplace=True)"
   ]
  },
  {
   "cell_type": "code",
   "execution_count": null,
   "id": "0b3fc867",
   "metadata": {},
   "outputs": [],
   "source": [
    "df.set_index(['Continent','Country'], inplace=True)\n",
    "df"
   ]
  },
  {
   "cell_type": "code",
   "execution_count": null,
   "id": "9ef1e186",
   "metadata": {},
   "outputs": [],
   "source": [
    "df.sort_index()"
   ]
  },
  {
   "cell_type": "code",
   "execution_count": null,
   "id": "d2c646ec",
   "metadata": {},
   "outputs": [],
   "source": [
    "df.loc['Africa','Angola']"
   ]
  }
 ],
 "metadata": {
  "kernelspec": {
   "display_name": "base",
   "language": "python",
   "name": "python3"
  },
  "language_info": {
   "codemirror_mode": {
    "name": "ipython",
    "version": 3
   },
   "file_extension": ".py",
   "mimetype": "text/x-python",
   "name": "python",
   "nbconvert_exporter": "python",
   "pygments_lexer": "ipython3",
   "version": "3.13.4"
  }
 },
 "nbformat": 4,
 "nbformat_minor": 5
}
