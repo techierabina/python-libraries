{
 "cells": [
  {
   "cell_type": "code",
   "execution_count": null,
   "id": "c4e11df4",
   "metadata": {},
   "outputs": [],
   "source": [
    "import pandas as pd"
   ]
  },
  {
   "cell_type": "code",
   "execution_count": null,
   "id": "f5dc1d9f",
   "metadata": {},
   "outputs": [],
   "source": [
    "df1=pd.read_csv('LOTR.csv')\n",
    "df1"
   ]
  },
  {
   "cell_type": "code",
   "execution_count": null,
   "id": "d894b8c4",
   "metadata": {},
   "outputs": [],
   "source": [
    "df2=pd.read_csv('LOTR 2.csv')\n",
    "df2"
   ]
  },
  {
   "cell_type": "code",
   "execution_count": null,
   "id": "4d8aadaf",
   "metadata": {},
   "outputs": [],
   "source": [
    "#merge comibes if they have same values\n",
    "df1.merge(df2)"
   ]
  },
  {
   "cell_type": "code",
   "execution_count": null,
   "id": "18e4ae1b",
   "metadata": {},
   "outputs": [],
   "source": [
    "df1.merge(df2, how='inner' ,on=['FellowshipID' , 'FirstName']) #you can only merge with the common columns"
   ]
  },
  {
   "cell_type": "code",
   "execution_count": null,
   "id": "9a25e549",
   "metadata": {},
   "outputs": [],
   "source": [
    "df1.merge(df2, how='outer')"
   ]
  },
  {
   "cell_type": "code",
   "execution_count": null,
   "id": "c1b94e11",
   "metadata": {},
   "outputs": [],
   "source": [
    "df1.merge(df2, how='left')\n"
   ]
  },
  {
   "cell_type": "code",
   "execution_count": null,
   "id": "d1a0efb0",
   "metadata": {},
   "outputs": [],
   "source": [
    "df1.merge(df2, how='right')"
   ]
  },
  {
   "cell_type": "code",
   "execution_count": null,
   "id": "be3f117e",
   "metadata": {},
   "outputs": [],
   "source": [
    "df1.merge(df2, how='cross')"
   ]
  }
 ],
 "metadata": {
  "kernelspec": {
   "display_name": "base",
   "language": "python",
   "name": "python3"
  },
  "language_info": {
   "codemirror_mode": {
    "name": "ipython",
    "version": 3
   },
   "file_extension": ".py",
   "mimetype": "text/x-python",
   "name": "python",
   "nbconvert_exporter": "python",
   "pygments_lexer": "ipython3",
   "version": "3.13.4"
  }
 },
 "nbformat": 4,
 "nbformat_minor": 5
}
