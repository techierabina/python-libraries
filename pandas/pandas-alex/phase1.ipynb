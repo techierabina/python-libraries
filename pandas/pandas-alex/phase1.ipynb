{
 "cells": [
  {
   "cell_type": "code",
   "execution_count": null,
   "id": "3d5543ce",
   "metadata": {},
   "outputs": [],
   "source": [
    "import pandas as pd "
   ]
  },
  {
   "cell_type": "code",
   "execution_count": null,
   "id": "67ea4b1c",
   "metadata": {},
   "outputs": [],
   "source": [
    "df=pd.read_csv('world_population.csv')\n",
    "pd.set_option('display.max.rows',235)\n",
    "print(df)\n"
   ]
  },
  {
   "cell_type": "code",
   "execution_count": null,
   "id": "6ec41a12",
   "metadata": {},
   "outputs": [],
   "source": [
    "df.info()\n",
    "df.head(10)"
   ]
  },
  {
   "cell_type": "code",
   "execution_count": null,
   "id": "f55b5f8b",
   "metadata": {},
   "outputs": [],
   "source": [
    "import pandas as pd\n",
    "\n",
    "df = pd.read_csv(r\"world_population.csv\")\n",
    "print(df.info())\n"
   ]
  },
  {
   "cell_type": "code",
   "execution_count": null,
   "id": "315008d7",
   "metadata": {},
   "outputs": [],
   "source": [
    "#filtering \n",
    "df[df['Rank']<= 10]"
   ]
  },
  {
   "cell_type": "code",
   "execution_count": null,
   "id": "a68f2609",
   "metadata": {},
   "outputs": [],
   "source": [
    "#check if available or not \n",
    "specific_counties=['Nepal','Brazil','India']\n",
    "df[df['Country'].isin(specific_counties)]"
   ]
  },
  {
   "cell_type": "code",
   "execution_count": null,
   "id": "3fb9456a",
   "metadata": {},
   "outputs": [],
   "source": [
    "df[df['Country'].str.contains('United')]"
   ]
  },
  {
   "cell_type": "code",
   "execution_count": null,
   "id": "4298c69c",
   "metadata": {},
   "outputs": [],
   "source": [
    "df2=df.set_index('Country')\n",
    "print(df2)"
   ]
  },
  {
   "cell_type": "code",
   "execution_count": null,
   "id": "c493c66b",
   "metadata": {},
   "outputs": [],
   "source": [
    "df2.filter(items=['continents','CCA3'],axis=1)"
   ]
  },
  {
   "cell_type": "code",
   "execution_count": null,
   "id": "2a1a2dff",
   "metadata": {},
   "outputs": [],
   "source": [
    "df[df['Rank']>10].sort_values(by=['Rank','Country'],ascending=True)"
   ]
  }
 ],
 "metadata": {
  "kernelspec": {
   "display_name": "base",
   "language": "python",
   "name": "python3"
  },
  "language_info": {
   "codemirror_mode": {
    "name": "ipython",
    "version": 3
   },
   "file_extension": ".py",
   "mimetype": "text/x-python",
   "name": "python",
   "nbconvert_exporter": "python",
   "pygments_lexer": "ipython3",
   "version": "3.13.4"
  }
 },
 "nbformat": 4,
 "nbformat_minor": 5
}
