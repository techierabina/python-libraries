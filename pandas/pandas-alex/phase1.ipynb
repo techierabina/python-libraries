{
 "cells": [
  {
   "cell_type": "code",
   "execution_count": null,
   "id": "3d5543ce",
   "metadata": {},
   "outputs": [],
   "source": [
    "import pandas as pd "
   ]
  },
  {
   "cell_type": "code",
   "execution_count": null,
   "id": "67ea4b1c",
   "metadata": {},
   "outputs": [],
   "source": [
    "df=pd.read_csv('countries of the world.csv')\n",
    "pd.set_option('display.max.rows',235)\n",
    "print(df)\n"
   ]
  },
  {
   "cell_type": "code",
   "execution_count": null,
   "id": "6ec41a12",
   "metadata": {},
   "outputs": [],
   "source": [
    "df.info()\n",
    "df.head(10)"
   ]
  },
  {
   "cell_type": "code",
   "execution_count": null,
   "id": "f55b5f8b",
   "metadata": {},
   "outputs": [],
   "source": [
    "df=pd.read_excel('world_population_excel_workbook.xlsx',sheet_name='Sheet1')\n",
    "print(df)\n",
    "print(df['Country'])\n",
    "df.shape"
   ]
  }
 ],
 "metadata": {
  "kernelspec": {
   "display_name": "base",
   "language": "python",
   "name": "python3"
  },
  "language_info": {
   "codemirror_mode": {
    "name": "ipython",
    "version": 3
   },
   "file_extension": ".py",
   "mimetype": "text/x-python",
   "name": "python",
   "nbconvert_exporter": "python",
   "pygments_lexer": "ipython3",
   "version": "3.13.4"
  }
 },
 "nbformat": 4,
 "nbformat_minor": 5
}
