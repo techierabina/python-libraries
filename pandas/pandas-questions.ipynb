{
 "cells": [
  {
   "cell_type": "markdown",
   "id": "2ddb2ea8",
   "metadata": {},
   "source": [
    "Create a Pandas DataFrame with 4 columns and 6 rows filled with random integers. \n",
    "Set the index to be the first column."
   ]
  },
  {
   "cell_type": "code",
   "execution_count": null,
   "id": "9ed7755e",
   "metadata": {},
   "outputs": [],
   "source": [
    "import pandas as pd \n",
    "import numpy as np\n",
    "df=pd.DataFrame(np.random.randint(1,100,size=(6,4)),columns=['a',\"b\",\"c\",\"d\"])\n",
    "print(df)\n",
    "df.set_index('a',inplace=True)\n",
    "print(\"DataFrame with new index: \")\n",
    "print(df)"
   ]
  },
  {
   "cell_type": "markdown",
   "id": "ac030d12",
   "metadata": {},
   "source": [
    "Create a Pandas DataFrame with columns 'A', 'B', 'C' and index 'X', 'Y', 'Z'. Fill the DataFrame with random integers and access the element at row 'Y' and column 'B'."
   ]
  },
  {
   "cell_type": "code",
   "execution_count": null,
   "id": "0231dfc1",
   "metadata": {},
   "outputs": [],
   "source": [
    "import pandas as pd \n",
    "import numpy as np\n",
    "df=pd.DataFrame(np.random.randint(1,100,size=(3,3)))\n",
    "df.columns=['A','B','C']\n",
    "df.index=['X', 'Y', 'Z']\n",
    "print(df)\n",
    "element=df.at['Y','B']\n",
    "(print(\"Element at row 'Y' and column 'B':\", element))"
   ]
  },
  {
   "cell_type": "markdown",
   "id": "54039f6a",
   "metadata": {},
   "source": [
    "Create a Pandas DataFrame with 3 columns and 5 rows filled with random integers. \n",
    "Add a new column that is the product of the first two columns."
   ]
  },
  {
   "cell_type": "code",
   "execution_count": null,
   "id": "5354a959",
   "metadata": {},
   "outputs": [],
   "source": [
    "df=pd.DataFrame(np.random.randint(1,29,size=(5,3)))\n",
    "df.columns=['A','B','C']\n",
    "print(df)\n",
    "#Adding new column as product of frist two column\n",
    "df['D']=df['A']*df['B']\n",
    "print(\"DataFrame adding new column:\")\n",
    "print(df)"
   ]
  },
  {
   "cell_type": "markdown",
   "id": "cddc8b01",
   "metadata": {},
   "source": [
    "Create a Pandas DataFrame with 3 columns and 4 rows filled with random integers. \n",
    "Compute the row-wise and column-wise sum."
   ]
  },
  {
   "cell_type": "code",
   "execution_count": null,
   "id": "a4021fb3",
   "metadata": {},
   "outputs": [],
   "source": [
    "df=pd.DataFrame(np.random.randint(1,101,size=(4,3)))\n",
    "print(df)\n",
    "row=df.sum(axis=1)\n",
    "column=df.sum(axis=0)\n",
    "print(\"The sum of row-wise:\",row)\n",
    "print(\"The sum of column-wise:\",column)"
   ]
  },
  {
   "cell_type": "markdown",
   "id": "2eaa8f98",
   "metadata": {},
   "source": [
    "Create a Pandas DataFrame with 3 columns and 5 rows filled with random integers. \n",
    "Introduce some NaN values. Fill the NaN values with the mean of the respective columns."
   ]
  },
  {
   "cell_type": "code",
   "execution_count": null,
   "id": "4fb850c2",
   "metadata": {},
   "outputs": [],
   "source": [
    "df=pd.DataFrame(np.random.randint(1,101,size=(5,3)),columns=['A','B','C'])\n",
    "print(df)\n",
    "df.iloc[1,0]=np.nan\n",
    "df.iloc[3,2]=np.nan\n",
    "df.iloc[4,1]=np.nan\n",
    "print(\"DataFrame with naNs:\")\n",
    "print(df)\n",
    "print(df.isna)\n",
    "df_filled=df.fillna(df.mean(numeric_only=True))\n",
    "print(\"DataFrame with filled values: \")\n",
    "print(df_filled)"
   ]
  },
  {
   "cell_type": "markdown",
   "id": "f75b00e5",
   "metadata": {},
   "source": [
    "Create a Pandas DataFrame with 4 columns and 6 rows filled with random integers. \n",
    "Introduce some NaN values. Drop the rows with any NaN values."
   ]
  },
  {
   "cell_type": "code",
   "execution_count": null,
   "id": "2f848068",
   "metadata": {},
   "outputs": [],
   "source": [
    "df=pd.DataFrame(np.random.randint(1,101,size=(6,4)),columns=['A','B','C','D'])\n",
    "print(df)\n",
    "df.iloc[0,3]=np.nan\n",
    "df.iloc[2,1]=np.nan\n",
    "df.iloc[5,3]=np.nan\n",
    "print(\"DataSet with NaN values:\")\n",
    "print(df)\n",
    "df.dropna(inplace=True)\n",
    "print(\"DataSet with dropped vales: \")\n",
    "print(df)"
   ]
  },
  {
   "cell_type": "markdown",
   "id": "11c351f9",
   "metadata": {},
   "source": [
    "Create a Pandas DataFrame with 2 columns: 'Category' and 'Value'. Fill the 'Category' column with \n",
    "random categories ('A', 'B', 'C') and the 'Value' column with random integers. Group the DataFrame \n",
    "by 'Category' and compute the sum and mean of 'Value' for each category."
   ]
  },
  {
   "cell_type": "code",
   "execution_count": null,
   "id": "fe36f688",
   "metadata": {},
   "outputs": [],
   "source": [
    "import pandas as pd\n",
    "import numpy as np\n",
    "categories=np.random.choice(['A','B','C'],size=20)\n",
    "values=np.random.randint(10,100,size=20)\n",
    "df=pd.DataFrame({\n",
    "    'Category':categories,\n",
    "    'Values':values\n",
    "})\n",
    "print(\"DataFrame: \")\n",
    "print(df)\n",
    "aggregate=df.groupby('Category')['Values'].agg(['sum','mean'])\n",
    "print(\"Aggregate Data: \")\n",
    "print(aggregate)"
   ]
  },
  {
   "cell_type": "markdown",
   "id": "e4a91c55",
   "metadata": {},
   "source": [
    "Create a Pandas DataFrame with 3 columns: 'Product', 'Category', and 'Sales'. \n",
    "Fill the DataFrame with random data. Group the DataFrame by 'Category' and compute \n",
    "the total sales for each category."
   ]
  },
  {
   "cell_type": "code",
   "execution_count": null,
   "id": "06140750",
   "metadata": {},
   "outputs": [],
   "source": [
    "df=pd.DataFrame({\n",
    "    'Product':np.random.choice(['Product1','Product2','Product3'],size=10),\n",
    "    'Category':np.random.choice(['A','B','C'],size=10),\n",
    "     'Sales':np.random.randint(1,1000,size=10)\n",
    "})\n",
    "print(\"DataFrame: \")\n",
    "print(df)\n",
    "aggreate=df.groupby('Category')['Sales'].sum()\n",
    "print(\"The data after aggregation: \")\n",
    "print(aggreate)"
   ]
  },
  {
   "cell_type": "markdown",
   "id": "5ff9d977",
   "metadata": {},
   "source": [
    " Create two Pandas DataFrames with a common column. Merge the DataFrames using the common column."
   ]
  },
  {
   "cell_type": "code",
   "execution_count": null,
   "id": "bf6a5c9e",
   "metadata": {},
   "outputs": [],
   "source": []
  }
 ],
 "metadata": {
  "kernelspec": {
   "display_name": "base",
   "language": "python",
   "name": "python3"
  },
  "language_info": {
   "codemirror_mode": {
    "name": "ipython",
    "version": 3
   },
   "file_extension": ".py",
   "mimetype": "text/x-python",
   "name": "python",
   "nbconvert_exporter": "python",
   "pygments_lexer": "ipython3",
   "version": "3.13.4"
  }
 },
 "nbformat": 4,
 "nbformat_minor": 5
}
