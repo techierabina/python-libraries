{
 "cells": [
  {
   "cell_type": "markdown",
   "id": "2ddb2ea8",
   "metadata": {},
   "source": [
    "Create a Pandas DataFrame with 4 columns and 6 rows filled with random integers. \n",
    "Set the index to be the first column."
   ]
  },
  {
   "cell_type": "code",
   "execution_count": 6,
   "id": "9ed7755e",
   "metadata": {},
   "outputs": [
    {
     "name": "stdout",
     "output_type": "stream",
     "text": [
      "    a   b   c   d\n",
      "0  59  19  21  99\n",
      "1  62   5  74  96\n",
      "2  53  79  18  17\n",
      "3   2  59  99  97\n",
      "4  10  22  14   1\n",
      "5  61  62  76  31\n",
      "DataFrame with new index: \n",
      "     b   c   d\n",
      "a             \n",
      "59  19  21  99\n",
      "62   5  74  96\n",
      "53  79  18  17\n",
      "2   59  99  97\n",
      "10  22  14   1\n",
      "61  62  76  31\n"
     ]
    }
   ],
   "source": [
    "import pandas as pd \n",
    "import numpy as np\n",
    "df=pd.DataFrame(np.random.randint(1,100,size=(6,4)),columns=['a',\"b\",\"c\",\"d\"])\n",
    "print(df)\n",
    "df.set_index('a',inplace=True)\n",
    "print(\"DataFrame with new index: \")\n",
    "print(df)"
   ]
  }
 ],
 "metadata": {
  "kernelspec": {
   "display_name": "base",
   "language": "python",
   "name": "python3"
  },
  "language_info": {
   "codemirror_mode": {
    "name": "ipython",
    "version": 3
   },
   "file_extension": ".py",
   "mimetype": "text/x-python",
   "name": "python",
   "nbconvert_exporter": "python",
   "pygments_lexer": "ipython3",
   "version": "3.13.4"
  }
 },
 "nbformat": 4,
 "nbformat_minor": 5
}
