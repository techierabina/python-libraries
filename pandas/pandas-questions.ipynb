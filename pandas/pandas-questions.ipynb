{
 "cells": [
  {
   "cell_type": "markdown",
   "id": "2ddb2ea8",
   "metadata": {},
   "source": [
    "Create a Pandas DataFrame with 4 columns and 6 rows filled with random integers. \n",
    "Set the index to be the first column."
   ]
  },
  {
   "cell_type": "code",
   "execution_count": null,
   "id": "9ed7755e",
   "metadata": {},
   "outputs": [],
   "source": [
    "import pandas as pd \n",
    "import numpy as np\n",
    "df=pd.DataFrame(np.random.randint(1,100,size=(6,4)),columns=['a',\"b\",\"c\",\"d\"])\n",
    "print(df)\n",
    "df.set_index('a',inplace=True)\n",
    "print(\"DataFrame with new index: \")\n",
    "print(df)"
   ]
  },
  {
   "cell_type": "markdown",
   "id": "ac030d12",
   "metadata": {},
   "source": [
    "Create a Pandas DataFrame with columns 'A', 'B', 'C' and index 'X', 'Y', 'Z'. Fill the DataFrame with random integers and access the element at row 'Y' and column 'B'."
   ]
  },
  {
   "cell_type": "code",
   "execution_count": null,
   "id": "0231dfc1",
   "metadata": {},
   "outputs": [],
   "source": [
    "import pandas as pd \n",
    "import numpy as np\n",
    "df=pd.DataFrame(np.random.randint(1,100,size=(3,3)))\n",
    "df.columns=['A','B','C']\n",
    "df.index=['X', 'Y', 'Z']\n",
    "print(df)\n",
    "element=df.at['Y','B']\n",
    "(print(\"Element at row 'Y' and column 'B':\", element))"
   ]
  },
  {
   "cell_type": "markdown",
   "id": "54039f6a",
   "metadata": {},
   "source": [
    "Create a Pandas DataFrame with 3 columns and 5 rows filled with random integers. \n",
    "Add a new column that is the product of the first two columns."
   ]
  },
  {
   "cell_type": "code",
   "execution_count": 11,
   "id": "5354a959",
   "metadata": {},
   "outputs": [
    {
     "name": "stdout",
     "output_type": "stream",
     "text": [
      "    A   B   C\n",
      "0  10   6   7\n",
      "1  13  26   6\n",
      "2  16  18  23\n",
      "3   4  15  13\n",
      "4  23  17  24\n",
      "DataFrame adding new column:\n",
      "    A   B   C    D\n",
      "0  10   6   7   60\n",
      "1  13  26   6  338\n",
      "2  16  18  23  288\n",
      "3   4  15  13   60\n",
      "4  23  17  24  391\n"
     ]
    }
   ],
   "source": [
    "df=pd.DataFrame(np.random.randint(1,29,size=(5,3)))\n",
    "df.columns=['A','B','C']\n",
    "print(df)\n",
    "#Adding new column as product of frist two column\n",
    "df['D']=df['A']*df['B']\n",
    "print(\"DataFrame adding new column:\")\n",
    "print(df)"
   ]
  },
  {
   "cell_type": "markdown",
   "id": "cddc8b01",
   "metadata": {},
   "source": [
    "Create a Pandas DataFrame with 3 columns and 4 rows filled with random integers. \n",
    "Compute the row-wise and column-wise sum."
   ]
  },
  {
   "cell_type": "code",
   "execution_count": 13,
   "id": "a4021fb3",
   "metadata": {},
   "outputs": [
    {
     "name": "stdout",
     "output_type": "stream",
     "text": [
      "    0    1   2\n",
      "0  54   38  18\n",
      "1  21  100  43\n",
      "2  88   50   7\n",
      "3  43   94  79\n",
      "The sum of row-wise: 0    110\n",
      "1    164\n",
      "2    145\n",
      "3    216\n",
      "dtype: int64\n",
      "The sum of column-wise: 0    206\n",
      "1    282\n",
      "2    147\n",
      "dtype: int64\n"
     ]
    }
   ],
   "source": [
    "df=pd.DataFrame(np.random.randint(1,101,size=(4,3)))\n",
    "print(df)\n",
    "row=df.sum(axis=1)\n",
    "column=df.sum(axis=0)\n",
    "print(\"The sum of row-wise:\",row)\n",
    "print(\"The sum of column-wise:\",column)"
   ]
  },
  {
   "cell_type": "markdown",
   "id": "2eaa8f98",
   "metadata": {},
   "source": [
    "Create a Pandas DataFrame with 3 columns and 5 rows filled with random integers. \n",
    "Introduce some NaN values. Fill the NaN values with the mean of the respective columns."
   ]
  },
  {
   "cell_type": "code",
   "execution_count": 28,
   "id": "4fb850c2",
   "metadata": {},
   "outputs": [
    {
     "name": "stdout",
     "output_type": "stream",
     "text": [
      "    A   B   C\n",
      "0  62  32  32\n",
      "1  61  49  29\n",
      "2  51  62  98\n",
      "3  22  24  22\n",
      "4  40  22  26\n",
      "DataFrame with naNs:\n",
      "      A     B     C\n",
      "0  62.0  32.0  32.0\n",
      "1   NaN  49.0  29.0\n",
      "2  51.0  62.0  98.0\n",
      "3  22.0  24.0   NaN\n",
      "4  40.0   NaN  26.0\n",
      "<bound method DataFrame.isna of       A     B     C\n",
      "0  62.0  32.0  32.0\n",
      "1   NaN  49.0  29.0\n",
      "2  51.0  62.0  98.0\n",
      "3  22.0  24.0   NaN\n",
      "4  40.0   NaN  26.0>\n",
      "DataFrame with filled values: \n",
      "       A      B      C\n",
      "0  62.00  32.00  32.00\n",
      "1  43.75  49.00  29.00\n",
      "2  51.00  62.00  98.00\n",
      "3  22.00  24.00  46.25\n",
      "4  40.00  41.75  26.00\n"
     ]
    }
   ],
   "source": [
    "df=pd.DataFrame(np.random.randint(1,101,size=(5,3)),columns=['A','B','C'])\n",
    "print(df)\n",
    "df.iloc[1,0]=np.nan\n",
    "df.iloc[3,2]=np.nan\n",
    "df.iloc[4,1]=np.nan\n",
    "print(\"DataFrame with naNs:\")\n",
    "print(df)\n",
    "print(df.isna)\n",
    "df_filled=df.fillna(df.mean(numeric_only=True))\n",
    "print(\"DataFrame with filled values: \")\n",
    "print(df_filled)"
   ]
  },
  {
   "cell_type": "markdown",
   "id": "f75b00e5",
   "metadata": {},
   "source": [
    "Create a Pandas DataFrame with 4 columns and 6 rows filled with random integers. \n",
    "Introduce some NaN values. Drop the rows with any NaN values."
   ]
  },
  {
   "cell_type": "code",
   "execution_count": 27,
   "id": "2f848068",
   "metadata": {},
   "outputs": [
    {
     "name": "stdout",
     "output_type": "stream",
     "text": [
      "    A   B   C   D\n",
      "0   9  96  92  56\n",
      "1  23  37  36  61\n",
      "2   7  97  19  17\n",
      "3   5  56  97  74\n",
      "4  90  20  14  98\n",
      "5  25   8  55   4\n",
      "DataSet with NaN values:\n",
      "    A     B   C     D\n",
      "0   9  96.0  92   NaN\n",
      "1  23  37.0  36  61.0\n",
      "2   7   NaN  19  17.0\n",
      "3   5  56.0  97  74.0\n",
      "4  90  20.0  14  98.0\n",
      "5  25   8.0  55   NaN\n",
      "DataSet with dropped vales: \n",
      "    A     B   C     D\n",
      "1  23  37.0  36  61.0\n",
      "3   5  56.0  97  74.0\n",
      "4  90  20.0  14  98.0\n"
     ]
    }
   ],
   "source": [
    "df=pd.DataFrame(np.random.randint(1,101,size=(6,4)),columns=['A','B','C','D'])\n",
    "print(df)\n",
    "df.iloc[0,3]=np.nan\n",
    "df.iloc[2,1]=np.nan\n",
    "df.iloc[5,3]=np.nan\n",
    "print(\"DataSet with NaN values:\")\n",
    "print(df)\n",
    "df.dropna(inplace=True)\n",
    "print(\"DataSet with dropped vales: \")\n",
    "print(df)"
   ]
  }
 ],
 "metadata": {
  "kernelspec": {
   "display_name": "base",
   "language": "python",
   "name": "python3"
  },
  "language_info": {
   "codemirror_mode": {
    "name": "ipython",
    "version": 3
   },
   "file_extension": ".py",
   "mimetype": "text/x-python",
   "name": "python",
   "nbconvert_exporter": "python",
   "pygments_lexer": "ipython3",
   "version": "3.13.4"
  }
 },
 "nbformat": 4,
 "nbformat_minor": 5
}
