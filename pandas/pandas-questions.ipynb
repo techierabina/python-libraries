{
 "cells": [
  {
   "cell_type": "markdown",
   "id": "2ddb2ea8",
   "metadata": {},
   "source": [
    "Create a Pandas DataFrame with 4 columns and 6 rows filled with random integers. \n",
    "Set the index to be the first column."
   ]
  },
  {
   "cell_type": "code",
   "execution_count": 2,
   "id": "9ed7755e",
   "metadata": {},
   "outputs": [
    {
     "name": "stdout",
     "output_type": "stream",
     "text": [
      "    a   b   c   d\n",
      "0  33  63  64  61\n",
      "1  42  41  69  50\n",
      "2  79  99  51  50\n",
      "3  66  47  52   1\n",
      "4  51  77  44  11\n",
      "5  28  33  95  48\n",
      "DataFrame with new index: \n",
      "     b   c   d\n",
      "a             \n",
      "33  63  64  61\n",
      "42  41  69  50\n",
      "79  99  51  50\n",
      "66  47  52   1\n",
      "51  77  44  11\n",
      "28  33  95  48\n"
     ]
    }
   ],
   "source": [
    "import pandas as pd \n",
    "import numpy as np\n",
    "df=pd.DataFrame(np.random.randint(1,100,size=(6,4)),columns=['a',\"b\",\"c\",\"d\"])\n",
    "print(df)\n",
    "df.set_index('a',inplace=True)\n",
    "print(\"DataFrame with new index: \")\n",
    "print(df)"
   ]
  },
  {
   "cell_type": "markdown",
   "id": "ac030d12",
   "metadata": {},
   "source": [
    "Create a Pandas DataFrame with columns 'A', 'B', 'C' and index 'X', 'Y', 'Z'. Fill the DataFrame with random integers and access the element at row 'Y' and column 'B'."
   ]
  },
  {
   "cell_type": "code",
   "execution_count": 4,
   "id": "0231dfc1",
   "metadata": {},
   "outputs": [
    {
     "name": "stdout",
     "output_type": "stream",
     "text": [
      "Data Frame: \n",
      "    A   B   C\n",
      "X  40  70  31\n",
      "Y  90  13  31\n",
      "Z  53  17  45\n",
      "Element at row 'Y' and column 'B': 13\n"
     ]
    }
   ],
   "source": [
    "df=pd.DataFrame(np.random.randint(1,100,size=(3,3)),columns=['A', 'B', 'C'], index=['X', 'Y', 'Z'])\n",
    "print(\"Data Frame: \")\n",
    "print(df)\n",
    "# Access the element at row 'Y' and column 'B'\n",
    "element = df.at['Y', 'B']\n",
    "print(\"Element at row 'Y' and column 'B':\", element)"
   ]
  }
 ],
 "metadata": {
  "kernelspec": {
   "display_name": "base",
   "language": "python",
   "name": "python3"
  },
  "language_info": {
   "codemirror_mode": {
    "name": "ipython",
    "version": 3
   },
   "file_extension": ".py",
   "mimetype": "text/x-python",
   "name": "python",
   "nbconvert_exporter": "python",
   "pygments_lexer": "ipython3",
   "version": "3.13.4"
  }
 },
 "nbformat": 4,
 "nbformat_minor": 5
}
