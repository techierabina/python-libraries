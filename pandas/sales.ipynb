{
 "cells": [
  {
   "cell_type": "markdown",
   "id": "9b9f3b79",
   "metadata": {},
   "source": [
    "Product Sales Analysis\n",
    "Total sales per product:"
   ]
  },
  {
   "cell_type": "code",
   "execution_count": 4,
   "id": "0a64750a",
   "metadata": {},
   "outputs": [
    {
     "data": {
      "text/plain": [
       "{'Headphones': 17415.38,\n",
       " 'Laptop': 14982.03,\n",
       " 'Monitor': 24652.27,\n",
       " 'Phone': 14940.42,\n",
       " 'Tablet': 12708.48}"
      ]
     },
     "execution_count": 4,
     "metadata": {},
     "output_type": "execute_result"
    }
   ],
   "source": [
    "{\n",
    " 'Headphones': 17415.38,\n",
    " 'Laptop': 14982.03,\n",
    " 'Monitor': 24652.27,\n",
    " 'Phone': 14940.42,\n",
    " 'Tablet': 12708.48\n",
    "}\n"
   ]
  }
 ],
 "metadata": {
  "kernelspec": {
   "display_name": "base",
   "language": "python",
   "name": "python3"
  },
  "language_info": {
   "codemirror_mode": {
    "name": "ipython",
    "version": 3
   },
   "file_extension": ".py",
   "mimetype": "text/x-python",
   "name": "python",
   "nbconvert_exporter": "python",
   "pygments_lexer": "ipython3",
   "version": "3.13.4"
  }
 },
 "nbformat": 4,
 "nbformat_minor": 5
}
