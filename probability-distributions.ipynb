{
 "cells": [
  {
   "cell_type": "code",
   "execution_count": 1,
   "id": "348e57b8",
   "metadata": {},
   "outputs": [
    {
     "name": "stdout",
     "output_type": "stream",
     "text": [
      "================================================================================\n",
      "PROBABILITY DISTRIBUTIONS: COMPLETE CODE EXAMPLES\n",
      "================================================================================\n"
     ]
    }
   ],
   "source": [
    "import numpy as np\n",
    "import matplotlib.pyplot as plt\n",
    "import seaborn as sns\n",
    "from scipy import stats\n",
    "import pandas as pd\n",
    "from math import factorial, exp\n",
    "\n",
    "# Set style for better plots\n",
    "plt.style.use('seaborn-v0_8')\n",
    "sns.set_palette(\"husl\")\n",
    "\n",
    "print(\"=\" * 80)\n",
    "print(\"PROBABILITY DISTRIBUTIONS: COMPLETE CODE EXAMPLES\")\n",
    "print(\"=\" * 80)"
   ]
  },
  {
   "cell_type": "code",
   "execution_count": 2,
   "id": "ac354f00",
   "metadata": {},
   "outputs": [
    {
     "name": "stdout",
     "output_type": "stream",
     "text": [
      "\n",
      "==================================================\n",
      "1. BERNOULLI DISTRIBUTION - EMAIL MARKETING\n",
      "==================================================\n",
      "Email Open Rate Analysis:\n",
      "- Probability of opening email: 0.250 (25.0%)\n",
      "- Probability of not opening: 0.750 (75.0%)\n",
      "\n",
      "Statistics:\n",
      "- Mean: 0.250\n",
      "- Variance: 0.188\n",
      "- Standard Deviation: 0.433\n",
      "\n",
      "Simulation Results (10,000 emails):\n",
      "- Simulated open rate: 0.241 (24.1%)\n",
      "- Expected opens: 2,500\n",
      "- Actual opens: 2,413\n",
      "\n",
      "Email Campaign Analysis for 50,000 emails:\n",
      "- Expected opens: 12500\n",
      "- Expected revenue: $187,500.00\n",
      "- Cost per email: $0.01\n",
      "- Total cost: $500.00\n",
      "- Expected profit: $187,000.00\n"
     ]
    },
    {
     "data": {
      "text/plain": [
       "(12500.0, 187500.0)"
      ]
     },
     "execution_count": 2,
     "metadata": {},
     "output_type": "execute_result"
    }
   ],
   "source": [
    "print(\"\\n\" + \"=\" * 50)\n",
    "print(\"1. BERNOULLI DISTRIBUTION - EMAIL MARKETING\")\n",
    "print(\"=\" * 50)\n",
    "\n",
    "# Parameters\n",
    "p_email = 0.25  # 25% open rate\n",
    "\n",
    "# Manual calculation\n",
    "def bernoulli_pmf(x, p):\n",
    "    \"\"\"Calculate Bernoulli probability mass function\"\"\"\n",
    "    if x == 1:\n",
    "        return p\n",
    "    elif x == 0:\n",
    "        return 1 - p\n",
    "    else:\n",
    "        return 0\n",
    "\n",
    "# Calculate probabilities\n",
    "prob_open = bernoulli_pmf(1, p_email)\n",
    "prob_not_open = bernoulli_pmf(0, p_email)\n",
    "\n",
    "print(f\"Email Open Rate Analysis:\")\n",
    "print(f\"- Probability of opening email: {prob_open:.3f} ({prob_open*100:.1f}%)\")\n",
    "print(f\"- Probability of not opening: {prob_not_open:.3f} ({prob_not_open*100:.1f}%)\")\n",
    "\n",
    "# Statistics\n",
    "mean_bernoulli = p_email\n",
    "variance_bernoulli = p_email * (1 - p_email)\n",
    "std_bernoulli = np.sqrt(variance_bernoulli)\n",
    "\n",
    "print(f\"\\nStatistics:\")\n",
    "print(f\"- Mean: {mean_bernoulli:.3f}\")\n",
    "print(f\"- Variance: {variance_bernoulli:.3f}\")\n",
    "print(f\"- Standard Deviation: {std_bernoulli:.3f}\")\n",
    "\n",
    "# Simulation\n",
    "np.random.seed(42)\n",
    "n_simulations = 10000\n",
    "email_results = np.random.binomial(1, p_email, n_simulations)\n",
    "simulated_open_rate = np.mean(email_results)\n",
    "\n",
    "print(f\"\\nSimulation Results ({n_simulations:,} emails):\")\n",
    "print(f\"- Simulated open rate: {simulated_open_rate:.3f} ({simulated_open_rate*100:.1f}%)\")\n",
    "print(f\"- Expected opens: {n_simulations * p_email:,.0f}\")\n",
    "print(f\"- Actual opens: {np.sum(email_results):,}\")\n",
    "\n",
    "# Business Application\n",
    "def email_campaign_analysis(emails_to_send, open_rate):\n",
    "    \"\"\"Analyze email campaign performance\"\"\"\n",
    "    expected_opens = emails_to_send * open_rate\n",
    "    expected_revenue_per_open = 15  # $15 average revenue per open\n",
    "    expected_revenue = expected_opens * expected_revenue_per_open\n",
    "    \n",
    "    print(f\"\\nEmail Campaign Analysis for {emails_to_send:,} emails:\")\n",
    "    print(f\"- Expected opens: {expected_opens:.0f}\")\n",
    "    print(f\"- Expected revenue: ${expected_revenue:,.2f}\")\n",
    "    print(f\"- Cost per email: $0.01\")\n",
    "    print(f\"- Total cost: ${emails_to_send * 0.01:,.2f}\")\n",
    "    print(f\"- Expected profit: ${expected_revenue - (emails_to_send * 0.01):,.2f}\")\n",
    "    \n",
    "    return expected_opens, expected_revenue\n",
    "\n",
    "email_campaign_analysis(50000, p_email)\n"
   ]
  }
 ],
 "metadata": {
  "kernelspec": {
   "display_name": "base",
   "language": "python",
   "name": "python3"
  },
  "language_info": {
   "codemirror_mode": {
    "name": "ipython",
    "version": 3
   },
   "file_extension": ".py",
   "mimetype": "text/x-python",
   "name": "python",
   "nbconvert_exporter": "python",
   "pygments_lexer": "ipython3",
   "version": "3.13.4"
  }
 },
 "nbformat": 4,
 "nbformat_minor": 5
}
